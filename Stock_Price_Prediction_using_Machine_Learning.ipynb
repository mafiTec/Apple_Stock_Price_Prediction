{
  "nbformat": 4,
  "nbformat_minor": 0,
  "metadata": {
    "colab": {
      "name": "Stock Price Prediction using Machine Learning",
      "provenance": [],
      "mount_file_id": "1VEuKlUHvVnVvOGMjN4-_PHOk704Tu6yO",
      "authorship_tag": "ABX9TyM3L5JMFr1XMIAobUQ/bu6J",
      "include_colab_link": true
    },
    "kernelspec": {
      "name": "python3",
      "display_name": "Python 3"
    },
    "language_info": {
      "name": "python"
    }
  },
  "cells": [
    {
      "cell_type": "markdown",
      "metadata": {
        "id": "view-in-github",
        "colab_type": "text"
      },
      "source": [
        "<a href=\"https://colab.research.google.com/github/mafiTec/Apple_Stock_Price_Prediction/blob/main/Stock_Price_Prediction_using_Machine_Learning.ipynb\" target=\"_parent\"><img src=\"https://colab.research.google.com/assets/colab-badge.svg\" alt=\"Open In Colab\"/></a>"
      ]
    },
    {
      "cell_type": "markdown",
      "source": [
        "Description this program uses an artificial recurrent neural network called Long Short Term Memory (LSTM)\n",
        "\n",
        "To pridict the sock price of a corporation (Apple.Inc), using the past 60 day stck price."
      ],
      "metadata": {
        "id": "-nILcJeAeStT"
      }
    },
    {
      "cell_type": "markdown",
      "source": [
        "Imports The Libraries"
      ],
      "metadata": {
        "id": "Cocn44cSW5UO"
      }
    },
    {
      "cell_type": "code",
      "execution_count": 88,
      "metadata": {
        "id": "VcJkRY-FS3XR"
      },
      "outputs": [],
      "source": [
        "import math\n",
        "import pandas as pd\n",
        "import numpy as np\n",
        "\n",
        "from sklearn.preprocessing import MinMaxScaler\n",
        "from keras.models import Sequential\n",
        "from keras.layers import Dense, LSTM\n",
        "\n",
        "import matplotlib.pyplot as plt\n",
        "plt.style.use('fivethirtyeight')\n"
      ]
    },
    {
      "cell_type": "markdown",
      "source": [
        "Read The data Set "
      ],
      "metadata": {
        "id": "nIrEswWhWR5f"
      }
    },
    {
      "cell_type": "code",
      "source": [
        "data = pd.read_csv(\"/content/drive/MyDrive/ML_Project/AAPL_Price_pridection.csv\")\n",
        "\n",
        "data"
      ],
      "metadata": {
        "colab": {
          "base_uri": "https://localhost:8080/",
          "height": 424
        },
        "id": "lN3MTq7XUq4o",
        "outputId": "43cc024c-9a24-4823-ef2c-53a3a6b436a1"
      },
      "execution_count": 89,
      "outputs": [
        {
          "output_type": "execute_result",
          "data": {
            "text/html": [
              "\n",
              "  <div id=\"df-fb4221eb-85e3-4e2f-b21c-42d869ef8f69\">\n",
              "    <div class=\"colab-df-container\">\n",
              "      <div>\n",
              "<style scoped>\n",
              "    .dataframe tbody tr th:only-of-type {\n",
              "        vertical-align: middle;\n",
              "    }\n",
              "\n",
              "    .dataframe tbody tr th {\n",
              "        vertical-align: top;\n",
              "    }\n",
              "\n",
              "    .dataframe thead th {\n",
              "        text-align: right;\n",
              "    }\n",
              "</style>\n",
              "<table border=\"1\" class=\"dataframe\">\n",
              "  <thead>\n",
              "    <tr style=\"text-align: right;\">\n",
              "      <th></th>\n",
              "      <th>Date</th>\n",
              "      <th>Open</th>\n",
              "      <th>High</th>\n",
              "      <th>Low</th>\n",
              "      <th>Close</th>\n",
              "      <th>Volume</th>\n",
              "    </tr>\n",
              "  </thead>\n",
              "  <tbody>\n",
              "    <tr>\n",
              "      <th>0</th>\n",
              "      <td>12/7/2011</td>\n",
              "      <td>13.9261</td>\n",
              "      <td>13.9621</td>\n",
              "      <td>13.8129</td>\n",
              "      <td>13.8961</td>\n",
              "      <td>305000048</td>\n",
              "    </tr>\n",
              "    <tr>\n",
              "      <th>1</th>\n",
              "      <td>12/8/2011</td>\n",
              "      <td>13.9803</td>\n",
              "      <td>14.1250</td>\n",
              "      <td>13.9368</td>\n",
              "      <td>13.9521</td>\n",
              "      <td>376356580</td>\n",
              "    </tr>\n",
              "    <tr>\n",
              "      <th>2</th>\n",
              "      <td>12/9/2011</td>\n",
              "      <td>14.0303</td>\n",
              "      <td>14.0728</td>\n",
              "      <td>13.9653</td>\n",
              "      <td>14.0578</td>\n",
              "      <td>297143408</td>\n",
              "    </tr>\n",
              "    <tr>\n",
              "      <th>3</th>\n",
              "      <td>12/12/2011</td>\n",
              "      <td>13.9886</td>\n",
              "      <td>14.0678</td>\n",
              "      <td>13.9089</td>\n",
              "      <td>13.9943</td>\n",
              "      <td>301065820</td>\n",
              "    </tr>\n",
              "    <tr>\n",
              "      <th>4</th>\n",
              "      <td>12/13/2011</td>\n",
              "      <td>14.0357</td>\n",
              "      <td>14.1214</td>\n",
              "      <td>13.8250</td>\n",
              "      <td>13.8861</td>\n",
              "      <td>339137092</td>\n",
              "    </tr>\n",
              "    <tr>\n",
              "      <th>...</th>\n",
              "      <td>...</td>\n",
              "      <td>...</td>\n",
              "      <td>...</td>\n",
              "      <td>...</td>\n",
              "      <td>...</td>\n",
              "      <td>...</td>\n",
              "    </tr>\n",
              "    <tr>\n",
              "      <th>2512</th>\n",
              "      <td>12/1/2021</td>\n",
              "      <td>167.4800</td>\n",
              "      <td>170.3000</td>\n",
              "      <td>164.5300</td>\n",
              "      <td>164.7700</td>\n",
              "      <td>152423003</td>\n",
              "    </tr>\n",
              "    <tr>\n",
              "      <th>2513</th>\n",
              "      <td>12/2/2021</td>\n",
              "      <td>158.7350</td>\n",
              "      <td>164.2000</td>\n",
              "      <td>157.8000</td>\n",
              "      <td>163.7600</td>\n",
              "      <td>136739174</td>\n",
              "    </tr>\n",
              "    <tr>\n",
              "      <th>2514</th>\n",
              "      <td>12/3/2021</td>\n",
              "      <td>164.0200</td>\n",
              "      <td>164.9600</td>\n",
              "      <td>159.7200</td>\n",
              "      <td>161.8400</td>\n",
              "      <td>118023116</td>\n",
              "    </tr>\n",
              "    <tr>\n",
              "      <th>2515</th>\n",
              "      <td>12/6/2021</td>\n",
              "      <td>164.2900</td>\n",
              "      <td>167.8799</td>\n",
              "      <td>164.2800</td>\n",
              "      <td>165.3200</td>\n",
              "      <td>107496982</td>\n",
              "    </tr>\n",
              "    <tr>\n",
              "      <th>2516</th>\n",
              "      <td>12/7/2021</td>\n",
              "      <td>169.0800</td>\n",
              "      <td>171.5800</td>\n",
              "      <td>168.3400</td>\n",
              "      <td>171.1800</td>\n",
              "      <td>120405352</td>\n",
              "    </tr>\n",
              "  </tbody>\n",
              "</table>\n",
              "<p>2517 rows × 6 columns</p>\n",
              "</div>\n",
              "      <button class=\"colab-df-convert\" onclick=\"convertToInteractive('df-fb4221eb-85e3-4e2f-b21c-42d869ef8f69')\"\n",
              "              title=\"Convert this dataframe to an interactive table.\"\n",
              "              style=\"display:none;\">\n",
              "        \n",
              "  <svg xmlns=\"http://www.w3.org/2000/svg\" height=\"24px\"viewBox=\"0 0 24 24\"\n",
              "       width=\"24px\">\n",
              "    <path d=\"M0 0h24v24H0V0z\" fill=\"none\"/>\n",
              "    <path d=\"M18.56 5.44l.94 2.06.94-2.06 2.06-.94-2.06-.94-.94-2.06-.94 2.06-2.06.94zm-11 1L8.5 8.5l.94-2.06 2.06-.94-2.06-.94L8.5 2.5l-.94 2.06-2.06.94zm10 10l.94 2.06.94-2.06 2.06-.94-2.06-.94-.94-2.06-.94 2.06-2.06.94z\"/><path d=\"M17.41 7.96l-1.37-1.37c-.4-.4-.92-.59-1.43-.59-.52 0-1.04.2-1.43.59L10.3 9.45l-7.72 7.72c-.78.78-.78 2.05 0 2.83L4 21.41c.39.39.9.59 1.41.59.51 0 1.02-.2 1.41-.59l7.78-7.78 2.81-2.81c.8-.78.8-2.07 0-2.86zM5.41 20L4 18.59l7.72-7.72 1.47 1.35L5.41 20z\"/>\n",
              "  </svg>\n",
              "      </button>\n",
              "      \n",
              "  <style>\n",
              "    .colab-df-container {\n",
              "      display:flex;\n",
              "      flex-wrap:wrap;\n",
              "      gap: 12px;\n",
              "    }\n",
              "\n",
              "    .colab-df-convert {\n",
              "      background-color: #E8F0FE;\n",
              "      border: none;\n",
              "      border-radius: 50%;\n",
              "      cursor: pointer;\n",
              "      display: none;\n",
              "      fill: #1967D2;\n",
              "      height: 32px;\n",
              "      padding: 0 0 0 0;\n",
              "      width: 32px;\n",
              "    }\n",
              "\n",
              "    .colab-df-convert:hover {\n",
              "      background-color: #E2EBFA;\n",
              "      box-shadow: 0px 1px 2px rgba(60, 64, 67, 0.3), 0px 1px 3px 1px rgba(60, 64, 67, 0.15);\n",
              "      fill: #174EA6;\n",
              "    }\n",
              "\n",
              "    [theme=dark] .colab-df-convert {\n",
              "      background-color: #3B4455;\n",
              "      fill: #D2E3FC;\n",
              "    }\n",
              "\n",
              "    [theme=dark] .colab-df-convert:hover {\n",
              "      background-color: #434B5C;\n",
              "      box-shadow: 0px 1px 3px 1px rgba(0, 0, 0, 0.15);\n",
              "      filter: drop-shadow(0px 1px 2px rgba(0, 0, 0, 0.3));\n",
              "      fill: #FFFFFF;\n",
              "    }\n",
              "  </style>\n",
              "\n",
              "      <script>\n",
              "        const buttonEl =\n",
              "          document.querySelector('#df-fb4221eb-85e3-4e2f-b21c-42d869ef8f69 button.colab-df-convert');\n",
              "        buttonEl.style.display =\n",
              "          google.colab.kernel.accessAllowed ? 'block' : 'none';\n",
              "\n",
              "        async function convertToInteractive(key) {\n",
              "          const element = document.querySelector('#df-fb4221eb-85e3-4e2f-b21c-42d869ef8f69');\n",
              "          const dataTable =\n",
              "            await google.colab.kernel.invokeFunction('convertToInteractive',\n",
              "                                                     [key], {});\n",
              "          if (!dataTable) return;\n",
              "\n",
              "          const docLinkHtml = 'Like what you see? Visit the ' +\n",
              "            '<a target=\"_blank\" href=https://colab.research.google.com/notebooks/data_table.ipynb>data table notebook</a>'\n",
              "            + ' to learn more about interactive tables.';\n",
              "          element.innerHTML = '';\n",
              "          dataTable['output_type'] = 'display_data';\n",
              "          await google.colab.output.renderOutput(dataTable, element);\n",
              "          const docLink = document.createElement('div');\n",
              "          docLink.innerHTML = docLinkHtml;\n",
              "          element.appendChild(docLink);\n",
              "        }\n",
              "      </script>\n",
              "    </div>\n",
              "  </div>\n",
              "  "
            ],
            "text/plain": [
              "            Date      Open      High       Low     Close     Volume\n",
              "0      12/7/2011   13.9261   13.9621   13.8129   13.8961  305000048\n",
              "1      12/8/2011   13.9803   14.1250   13.9368   13.9521  376356580\n",
              "2      12/9/2011   14.0303   14.0728   13.9653   14.0578  297143408\n",
              "3     12/12/2011   13.9886   14.0678   13.9089   13.9943  301065820\n",
              "4     12/13/2011   14.0357   14.1214   13.8250   13.8861  339137092\n",
              "...          ...       ...       ...       ...       ...        ...\n",
              "2512   12/1/2021  167.4800  170.3000  164.5300  164.7700  152423003\n",
              "2513   12/2/2021  158.7350  164.2000  157.8000  163.7600  136739174\n",
              "2514   12/3/2021  164.0200  164.9600  159.7200  161.8400  118023116\n",
              "2515   12/6/2021  164.2900  167.8799  164.2800  165.3200  107496982\n",
              "2516   12/7/2021  169.0800  171.5800  168.3400  171.1800  120405352\n",
              "\n",
              "[2517 rows x 6 columns]"
            ]
          },
          "metadata": {},
          "execution_count": 89
        }
      ]
    },
    {
      "cell_type": "markdown",
      "source": [
        "Get the Number of rows and Columns The data set"
      ],
      "metadata": {
        "id": "BQb1rn8AWu2e"
      }
    },
    {
      "cell_type": "code",
      "source": [
        "data.shape"
      ],
      "metadata": {
        "colab": {
          "base_uri": "https://localhost:8080/"
        },
        "id": "wjB4D0VqkDuY",
        "outputId": "946e53eb-2a71-4fb0-dd43-c7bf2d093d49"
      },
      "execution_count": 90,
      "outputs": [
        {
          "output_type": "execute_result",
          "data": {
            "text/plain": [
              "(2517, 6)"
            ]
          },
          "metadata": {},
          "execution_count": 90
        }
      ]
    },
    {
      "cell_type": "markdown",
      "source": [
        "Get the description of the data set "
      ],
      "metadata": {
        "id": "swi8GbH5kQzN"
      }
    },
    {
      "cell_type": "code",
      "source": [
        "data.describe()"
      ],
      "metadata": {
        "colab": {
          "base_uri": "https://localhost:8080/",
          "height": 300
        },
        "id": "RgCYWUiJUq_v",
        "outputId": "82b40f7c-4980-4b24-c617-8c78ed594924"
      },
      "execution_count": 91,
      "outputs": [
        {
          "output_type": "execute_result",
          "data": {
            "text/html": [
              "\n",
              "  <div id=\"df-f7475844-d2ae-461a-8dba-ab20a695d076\">\n",
              "    <div class=\"colab-df-container\">\n",
              "      <div>\n",
              "<style scoped>\n",
              "    .dataframe tbody tr th:only-of-type {\n",
              "        vertical-align: middle;\n",
              "    }\n",
              "\n",
              "    .dataframe tbody tr th {\n",
              "        vertical-align: top;\n",
              "    }\n",
              "\n",
              "    .dataframe thead th {\n",
              "        text-align: right;\n",
              "    }\n",
              "</style>\n",
              "<table border=\"1\" class=\"dataframe\">\n",
              "  <thead>\n",
              "    <tr style=\"text-align: right;\">\n",
              "      <th></th>\n",
              "      <th>Open</th>\n",
              "      <th>High</th>\n",
              "      <th>Low</th>\n",
              "      <th>Close</th>\n",
              "      <th>Volume</th>\n",
              "    </tr>\n",
              "  </thead>\n",
              "  <tbody>\n",
              "    <tr>\n",
              "      <th>count</th>\n",
              "      <td>2517.000000</td>\n",
              "      <td>2517.000000</td>\n",
              "      <td>2517.000000</td>\n",
              "      <td>2517.000000</td>\n",
              "      <td>2.517000e+03</td>\n",
              "    </tr>\n",
              "    <tr>\n",
              "      <th>mean</th>\n",
              "      <td>47.924990</td>\n",
              "      <td>48.422890</td>\n",
              "      <td>47.437660</td>\n",
              "      <td>47.950821</td>\n",
              "      <td>2.164128e+08</td>\n",
              "    </tr>\n",
              "    <tr>\n",
              "      <th>std</th>\n",
              "      <td>37.362046</td>\n",
              "      <td>37.804626</td>\n",
              "      <td>36.935705</td>\n",
              "      <td>37.395161</td>\n",
              "      <td>1.758237e+08</td>\n",
              "    </tr>\n",
              "    <tr>\n",
              "      <th>min</th>\n",
              "      <td>13.584300</td>\n",
              "      <td>13.705000</td>\n",
              "      <td>13.488600</td>\n",
              "      <td>13.533600</td>\n",
              "      <td>4.099995e+07</td>\n",
              "    </tr>\n",
              "    <tr>\n",
              "      <th>25%</th>\n",
              "      <td>23.497500</td>\n",
              "      <td>23.685000</td>\n",
              "      <td>23.252500</td>\n",
              "      <td>23.484700</td>\n",
              "      <td>1.035447e+08</td>\n",
              "    </tr>\n",
              "    <tr>\n",
              "      <th>50%</th>\n",
              "      <td>32.092500</td>\n",
              "      <td>32.342500</td>\n",
              "      <td>31.850000</td>\n",
              "      <td>32.135000</td>\n",
              "      <td>1.532756e+08</td>\n",
              "    </tr>\n",
              "    <tr>\n",
              "      <th>75%</th>\n",
              "      <td>52.722500</td>\n",
              "      <td>53.412500</td>\n",
              "      <td>52.317500</td>\n",
              "      <td>52.630000</td>\n",
              "      <td>2.677400e+08</td>\n",
              "    </tr>\n",
              "    <tr>\n",
              "      <th>max</th>\n",
              "      <td>169.080000</td>\n",
              "      <td>171.580000</td>\n",
              "      <td>168.340000</td>\n",
              "      <td>171.180000</td>\n",
              "      <td>1.506113e+09</td>\n",
              "    </tr>\n",
              "  </tbody>\n",
              "</table>\n",
              "</div>\n",
              "      <button class=\"colab-df-convert\" onclick=\"convertToInteractive('df-f7475844-d2ae-461a-8dba-ab20a695d076')\"\n",
              "              title=\"Convert this dataframe to an interactive table.\"\n",
              "              style=\"display:none;\">\n",
              "        \n",
              "  <svg xmlns=\"http://www.w3.org/2000/svg\" height=\"24px\"viewBox=\"0 0 24 24\"\n",
              "       width=\"24px\">\n",
              "    <path d=\"M0 0h24v24H0V0z\" fill=\"none\"/>\n",
              "    <path d=\"M18.56 5.44l.94 2.06.94-2.06 2.06-.94-2.06-.94-.94-2.06-.94 2.06-2.06.94zm-11 1L8.5 8.5l.94-2.06 2.06-.94-2.06-.94L8.5 2.5l-.94 2.06-2.06.94zm10 10l.94 2.06.94-2.06 2.06-.94-2.06-.94-.94-2.06-.94 2.06-2.06.94z\"/><path d=\"M17.41 7.96l-1.37-1.37c-.4-.4-.92-.59-1.43-.59-.52 0-1.04.2-1.43.59L10.3 9.45l-7.72 7.72c-.78.78-.78 2.05 0 2.83L4 21.41c.39.39.9.59 1.41.59.51 0 1.02-.2 1.41-.59l7.78-7.78 2.81-2.81c.8-.78.8-2.07 0-2.86zM5.41 20L4 18.59l7.72-7.72 1.47 1.35L5.41 20z\"/>\n",
              "  </svg>\n",
              "      </button>\n",
              "      \n",
              "  <style>\n",
              "    .colab-df-container {\n",
              "      display:flex;\n",
              "      flex-wrap:wrap;\n",
              "      gap: 12px;\n",
              "    }\n",
              "\n",
              "    .colab-df-convert {\n",
              "      background-color: #E8F0FE;\n",
              "      border: none;\n",
              "      border-radius: 50%;\n",
              "      cursor: pointer;\n",
              "      display: none;\n",
              "      fill: #1967D2;\n",
              "      height: 32px;\n",
              "      padding: 0 0 0 0;\n",
              "      width: 32px;\n",
              "    }\n",
              "\n",
              "    .colab-df-convert:hover {\n",
              "      background-color: #E2EBFA;\n",
              "      box-shadow: 0px 1px 2px rgba(60, 64, 67, 0.3), 0px 1px 3px 1px rgba(60, 64, 67, 0.15);\n",
              "      fill: #174EA6;\n",
              "    }\n",
              "\n",
              "    [theme=dark] .colab-df-convert {\n",
              "      background-color: #3B4455;\n",
              "      fill: #D2E3FC;\n",
              "    }\n",
              "\n",
              "    [theme=dark] .colab-df-convert:hover {\n",
              "      background-color: #434B5C;\n",
              "      box-shadow: 0px 1px 3px 1px rgba(0, 0, 0, 0.15);\n",
              "      filter: drop-shadow(0px 1px 2px rgba(0, 0, 0, 0.3));\n",
              "      fill: #FFFFFF;\n",
              "    }\n",
              "  </style>\n",
              "\n",
              "      <script>\n",
              "        const buttonEl =\n",
              "          document.querySelector('#df-f7475844-d2ae-461a-8dba-ab20a695d076 button.colab-df-convert');\n",
              "        buttonEl.style.display =\n",
              "          google.colab.kernel.accessAllowed ? 'block' : 'none';\n",
              "\n",
              "        async function convertToInteractive(key) {\n",
              "          const element = document.querySelector('#df-f7475844-d2ae-461a-8dba-ab20a695d076');\n",
              "          const dataTable =\n",
              "            await google.colab.kernel.invokeFunction('convertToInteractive',\n",
              "                                                     [key], {});\n",
              "          if (!dataTable) return;\n",
              "\n",
              "          const docLinkHtml = 'Like what you see? Visit the ' +\n",
              "            '<a target=\"_blank\" href=https://colab.research.google.com/notebooks/data_table.ipynb>data table notebook</a>'\n",
              "            + ' to learn more about interactive tables.';\n",
              "          element.innerHTML = '';\n",
              "          dataTable['output_type'] = 'display_data';\n",
              "          await google.colab.output.renderOutput(dataTable, element);\n",
              "          const docLink = document.createElement('div');\n",
              "          docLink.innerHTML = docLinkHtml;\n",
              "          element.appendChild(docLink);\n",
              "        }\n",
              "      </script>\n",
              "    </div>\n",
              "  </div>\n",
              "  "
            ],
            "text/plain": [
              "              Open         High          Low        Close        Volume\n",
              "count  2517.000000  2517.000000  2517.000000  2517.000000  2.517000e+03\n",
              "mean     47.924990    48.422890    47.437660    47.950821  2.164128e+08\n",
              "std      37.362046    37.804626    36.935705    37.395161  1.758237e+08\n",
              "min      13.584300    13.705000    13.488600    13.533600  4.099995e+07\n",
              "25%      23.497500    23.685000    23.252500    23.484700  1.035447e+08\n",
              "50%      32.092500    32.342500    31.850000    32.135000  1.532756e+08\n",
              "75%      52.722500    53.412500    52.317500    52.630000  2.677400e+08\n",
              "max     169.080000   171.580000   168.340000   171.180000  1.506113e+09"
            ]
          },
          "metadata": {},
          "execution_count": 91
        }
      ]
    },
    {
      "cell_type": "markdown",
      "source": [
        "Visualize the closing price history\n",
        "\n",
        ">analysis the closing dataframe \n"
      ],
      "metadata": {
        "id": "SGf1IEkUkcrc"
      }
    },
    {
      "cell_type": "code",
      "source": [
        "plt.figure(figsize=(16,8))\n",
        "plt.title('Close price History')\n",
        "plt.plot(data['Close'])\n",
        "plt.xlabel('Date', fontsize=18)\n",
        "plt.ylabel('Close price USD ($)', fontsize=18)\n",
        "plt.show()"
      ],
      "metadata": {
        "colab": {
          "base_uri": "https://localhost:8080/",
          "height": 558
        },
        "id": "dDdOI73yko0I",
        "outputId": "f28456b0-68f5-4d5d-93a0-49e7b30562fe"
      },
      "execution_count": 92,
      "outputs": [
        {
          "output_type": "display_data",
          "data": {
            "image/png": "[encoded data removed]",
            "text/plain": [
              "<Figure size 1152x576 with 1 Axes>"
            ]
          },
          "metadata": {}
        }
      ]
    },
    {
      "cell_type": "markdown",
      "source": [
        "Creating a new Dataframe with only the 'Close' Column"
      ],
      "metadata": {
        "id": "7FeY9wP9nAsh"
      }
    },
    {
      "cell_type": "code",
      "source": [
        "df = data.filter(['Close'])\n",
        "\n",
        "#convert the dataframe to a numpy array\n",
        "\n",
        "dataset = df.values\n",
        "\n",
        "#Get the number of rows to train the model on \n",
        "training_data_len = math.ceil( len(dataset) * .8)\n",
        "\n",
        "training_data_len"
      ],
      "metadata": {
        "colab": {
          "base_uri": "https://localhost:8080/"
        },
        "id": "1fOvlKccmZMb",
        "outputId": "4819ae56-c9ad-4550-ab0f-dcebdcc98c9e"
      },
      "execution_count": 93,
      "outputs": [
        {
          "output_type": "execute_result",
          "data": {
            "text/plain": [
              "2014"
            ]
          },
          "metadata": {},
          "execution_count": 93
        }
      ]
    },
    {
      "cell_type": "markdown",
      "source": [
        "Scale the data \n",
        "> creating mimax scaler object "
      ],
      "metadata": {
        "id": "pCHehpvco2yh"
      }
    },
    {
      "cell_type": "code",
      "source": [
        "scaler = MinMaxScaler(feature_range=(0,1))\n",
        "scaled_data = scaler.fit_transform(dataset)\n",
        "\n",
        "scaled_data"
      ],
      "metadata": {
        "colab": {
          "base_uri": "https://localhost:8080/"
        },
        "id": "ULh4Z1wsotqD",
        "outputId": "2fab56c6-8ac6-4d00-c9c7-ef5cc0319185"
      },
      "execution_count": 94,
      "outputs": [
        {
          "output_type": "execute_result",
          "data": {
            "text/plain": [
              "array([[0.00229945],\n",
              "       [0.00265468],\n",
              "       [0.00332516],\n",
              "       ...,\n",
              "       [0.94075348],\n",
              "       [0.9628282 ],\n",
              "       [1.        ]])"
            ]
          },
          "metadata": {},
          "execution_count": 94
        }
      ]
    },
    {
      "cell_type": "markdown",
      "source": [
        "Creating the training data set\n",
        "> creat the scaled training data set"
      ],
      "metadata": {
        "id": "b9tONjp3p4r7"
      }
    },
    {
      "cell_type": "code",
      "source": [
        "train_data = scaled_data[0:training_data_len, :]\n"
      ],
      "metadata": {
        "id": "FgiEWmMsp1Q4"
      },
      "execution_count": 95,
      "outputs": []
    },
    {
      "cell_type": "markdown",
      "source": [
        "Split the data into X_train and Y_trian data set"
      ],
      "metadata": {
        "id": "VAvHGGX6qZoh"
      }
    },
    {
      "cell_type": "code",
      "source": [
        "X_train = []\n",
        "Y_train = []\n"
      ],
      "metadata": {
        "id": "5rh6XsWjqkQZ"
      },
      "execution_count": 96,
      "outputs": []
    },
    {
      "cell_type": "markdown",
      "source": [
        "Creating a Loop"
      ],
      "metadata": {
        "id": "-gtH-Jzzq1mw"
      }
    },
    {
      "cell_type": "code",
      "source": [
        "for i in range (60, len(train_data)):\n",
        "  X_train.append(train_data[i-60:i, 0])\n",
        "  Y_train.append(train_data[i, 0])\n",
        "  if i<=60:\n",
        "   print(X_train)\n",
        "   print(Y_train)\n",
        "   print()"
      ],
      "metadata": {
        "colab": {
          "base_uri": "https://localhost:8080/"
        },
        "id": "bpYMCm97q5Zo",
        "outputId": "6030a3e9-fc36-4bce-bc6f-164ab125809a"
      },
      "execution_count": 97,
      "outputs": [
        {
          "output_type": "stream",
          "name": "stdout",
          "text": [
            "[array([0.00229945, 0.00265468, 0.00332516, 0.00292236, 0.00223602,\n",
            "       0.00028291, 0.        , 0.00047067, 0.00074026, 0.00385356,\n",
            "       0.0039652 , 0.00444222, 0.00552502, 0.00625006, 0.00536898,\n",
            "       0.00593099, 0.00590372, 0.00731511, 0.00781559, 0.00885526,\n",
            "       0.00984545, 0.00969385, 0.01003575, 0.00987971, 0.00961646,\n",
            "       0.0092587 , 0.01036624, 0.01136531, 0.01105766, 0.0093697 ,\n",
            "       0.01098027, 0.00939444, 0.0153413 , 0.01488141, 0.01548212,\n",
            "       0.01677996, 0.01756589, 0.01750056, 0.01725824, 0.01829093,\n",
            "       0.01926273, 0.02036393, 0.02214259, 0.02587817, 0.02593462,\n",
            "       0.02801459, 0.02956871, 0.02689754, 0.02792642, 0.02790549,\n",
            "       0.03078979, 0.03037938, 0.03113867, 0.03250249, 0.03326115,\n",
            "       0.03544769, 0.03703986, 0.03749975, 0.03766087, 0.03493768])]\n",
            "[0.03428051639618793]\n",
            "\n"
          ]
        }
      ]
    },
    {
      "cell_type": "markdown",
      "source": [
        "Convert the Xtrain and  Y_train to numpy arrayes"
      ],
      "metadata": {
        "id": "Ws3JjpBiwRE2"
      }
    },
    {
      "cell_type": "code",
      "source": [
        "X_train, Y_train = np.array(X_train), np.array(Y_train)"
      ],
      "metadata": {
        "id": "ijnHehYxwPFv"
      },
      "execution_count": 98,
      "outputs": []
    },
    {
      "cell_type": "markdown",
      "source": [
        "Reshape the data"
      ],
      "metadata": {
        "id": "tTBQHPP2wqAW"
      }
    },
    {
      "cell_type": "code",
      "source": [
        "X_train = np.reshape(X_train, (X_train.shape[0], X_train.shape[1], 1))\n",
        "X_train.shape"
      ],
      "metadata": {
        "colab": {
          "base_uri": "https://localhost:8080/"
        },
        "id": "4soqw0wFshAx",
        "outputId": "0ec435ed-5cc6-47d2-c94d-23aa01e33b23"
      },
      "execution_count": 99,
      "outputs": [
        {
          "output_type": "execute_result",
          "data": {
            "text/plain": [
              "(1954, 60, 1)"
            ]
          },
          "metadata": {},
          "execution_count": 99
        }
      ]
    },
    {
      "cell_type": "markdown",
      "source": [
        "Bulid The LSTM model"
      ],
      "metadata": {
        "id": "IesHcM0ixuA0"
      }
    },
    {
      "cell_type": "code",
      "source": [
        "\n",
        "model = Sequential()\n",
        "model.add(LSTM(50, return_sequences=True, input_shape=(X_train.shape[1], 1)))\n",
        "model.add(LSTM( 50, return_sequences=False))\n",
        "model.add(Dense(25))\n",
        "model.add(Dense(1))"
      ],
      "metadata": {
        "id": "-UnWYv5Rx1ea"
      },
      "execution_count": 100,
      "outputs": []
    },
    {
      "cell_type": "markdown",
      "source": [
        "Compile the model"
      ],
      "metadata": {
        "id": "_-peUQ-RzMRq"
      }
    },
    {
      "cell_type": "code",
      "source": [
        "model.compile(optimizer='adam', loss='mean_squared_error')"
      ],
      "metadata": {
        "id": "93x0EX0gFCBz"
      },
      "execution_count": 101,
      "outputs": []
    },
    {
      "cell_type": "markdown",
      "source": [
        "Train the model"
      ],
      "metadata": {
        "id": "PLTxiy_9GPbM"
      }
    },
    {
      "cell_type": "code",
      "source": [
        "model.fit(X_train, Y_train, batch_size=1, epochs=10)"
      ],
      "metadata": {
        "colab": {
          "base_uri": "https://localhost:8080/"
        },
        "id": "CqxaHJIdGMPH",
        "outputId": "99040fcf-fd70-457c-cf8c-986974664743"
      },
      "execution_count": 102,
      "outputs": [
        {
          "output_type": "stream",
          "name": "stdout",
          "text": [
            "Epoch 1/10\n",
            "1954/1954 [==============================] - 59s 28ms/step - loss: 1.7360e-04\n",
            "Epoch 2/10\n",
            "1954/1954 [==============================] - 55s 28ms/step - loss: 7.8167e-05\n",
            "Epoch 3/10\n",
            "1954/1954 [==============================] - 56s 28ms/step - loss: 5.9358e-05\n",
            "Epoch 4/10\n",
            "1954/1954 [==============================] - 56s 28ms/step - loss: 4.6617e-05\n",
            "Epoch 5/10\n",
            "1954/1954 [==============================] - 55s 28ms/step - loss: 4.6922e-05\n",
            "Epoch 6/10\n",
            "1954/1954 [==============================] - 55s 28ms/step - loss: 4.3227e-05\n",
            "Epoch 7/10\n",
            "1954/1954 [==============================] - 55s 28ms/step - loss: 4.1394e-05\n",
            "Epoch 8/10\n",
            "1954/1954 [==============================] - 54s 28ms/step - loss: 3.2124e-05\n",
            "Epoch 9/10\n",
            "1954/1954 [==============================] - 55s 28ms/step - loss: 3.4331e-05\n",
            "Epoch 10/10\n",
            "1954/1954 [==============================] - 56s 28ms/step - loss: 3.4470e-05\n"
          ]
        },
        {
          "output_type": "execute_result",
          "data": {
            "text/plain": [
              "<keras.callbacks.History at 0x7f384de3e5d0>"
            ]
          },
          "metadata": {},
          "execution_count": 102
        }
      ]
    },
    {
      "cell_type": "markdown",
      "source": [
        "creat the testing dat set, \n",
        "\n",
        "create a new containing scaled values from index 1543 to 2003"
      ],
      "metadata": {
        "id": "29Sdv4O1MhUY"
      }
    },
    {
      "cell_type": "code",
      "source": [
        "test_data = scaled_data[training_data_len - 60:, :]"
      ],
      "metadata": {
        "id": "vxQ8dTjCYr_K"
      },
      "execution_count": 103,
      "outputs": []
    },
    {
      "cell_type": "markdown",
      "source": [
        "creat the data setes x_test and y_test"
      ],
      "metadata": {
        "id": "Gq74Wo6FdDrY"
      }
    },
    {
      "cell_type": "code",
      "source": [
        "X_test = []\n",
        "Y_test = dataset[training_data_len:, :]\n",
        "for i in range(60, len(test_data)):\n",
        "  X_test.append(test_data[i-60:i,0])\n"
      ],
      "metadata": {
        "id": "TeW_9sL4cTmn"
      },
      "execution_count": 104,
      "outputs": []
    },
    {
      "cell_type": "code",
      "source": [
        "X_test = np.array(X_test)"
      ],
      "metadata": {
        "id": "im3CH30AeHE7"
      },
      "execution_count": 105,
      "outputs": []
    },
    {
      "cell_type": "markdown",
      "source": [
        "Reshape the dat"
      ],
      "metadata": {
        "id": "RVsvpwrAeUSA"
      }
    },
    {
      "cell_type": "code",
      "source": [
        "X_test = np.reshape(X_test, (X_test.shape[0], X_test.shape[1], 1))"
      ],
      "metadata": {
        "id": "LBrGRRW4edsA"
      },
      "execution_count": 106,
      "outputs": []
    },
    {
      "cell_type": "markdown",
      "source": [
        "get the models prdicted price value"
      ],
      "metadata": {
        "id": "sxlHP6qgfLhr"
      }
    },
    {
      "cell_type": "code",
      "source": [
        "predictions = model.predict(X_test)\n",
        "predictions = scaler.inverse_transform(predictions)"
      ],
      "metadata": {
        "id": "0WhuUv1FfKgn"
      },
      "execution_count": 107,
      "outputs": []
    },
    {
      "cell_type": "markdown",
      "source": [
        "get the root mean squared error (RMSE)"
      ],
      "metadata": {
        "id": "IW410TuwfunL"
      }
    },
    {
      "cell_type": "code",
      "source": [
        "rmse = np.sqrt(np.mean( predictions - Y_test)**2)\n",
        "rmse "
      ],
      "metadata": {
        "colab": {
          "base_uri": "https://localhost:8080/"
        },
        "id": "XJKv8L5vftb1",
        "outputId": "2834877e-3b36-4218-8831-9ea9c55040ed"
      },
      "execution_count": 108,
      "outputs": [
        {
          "output_type": "execute_result",
          "data": {
            "text/plain": [
              "3.947411442599287"
            ]
          },
          "metadata": {},
          "execution_count": 108
        }
      ]
    },
    {
      "cell_type": "markdown",
      "source": [
        "plot the data"
      ],
      "metadata": {
        "id": "IWlugIsFgQ-_"
      }
    },
    {
      "cell_type": "code",
      "source": [
        "train = data[:training_data_len]\n",
        "valid = data[training_data_len:]\n",
        "valid['predictions'] = predictions\n"
      ],
      "metadata": {
        "colab": {
          "base_uri": "https://localhost:8080/"
        },
        "id": "604XlSIrgVJf",
        "outputId": "3e6ac6f3-12bf-4da1-96cd-a3c0b99869cf"
      },
      "execution_count": 109,
      "outputs": [
        {
          "output_type": "stream",
          "name": "stderr",
          "text": [
            "/usr/local/lib/python3.7/dist-packages/ipykernel_launcher.py:3: SettingWithCopyWarning: \n",
            "A value is trying to be set on a copy of a slice from a DataFrame.\n",
            "Try using .loc[row_indexer,col_indexer] = value instead\n",
            "\n",
            "See the caveats in the documentation: https://pandas.pydata.org/pandas-docs/stable/user_guide/indexing.html#returning-a-view-versus-a-copy\n",
            "  This is separate from the ipykernel package so we can avoid doing imports until\n"
          ]
        }
      ]
    },
    {
      "cell_type": "markdown",
      "source": [
        "visualized the data "
      ],
      "metadata": {
        "id": "uaGOWD0rgwAN"
      }
    },
    {
      "cell_type": "code",
      "source": [
        "plt.figure(figsize=(16,8))\n",
        "plt.title('Model')\n",
        "plt.xlabel('Date', fontsize=18)\n",
        "plt.ylabel('close price USD ($)', fontsize=18)\n",
        "plt.plot(train['Close'])\n",
        "plt.plot(valid[['Close', 'predictions']])\n",
        "plt.legend(['Train', 'Val', 'predictions'], loc =\"lower right\")\n",
        "plt.show()"
      ],
      "metadata": {
        "colab": {
          "base_uri": "https://localhost:8080/",
          "height": 558
        },
        "id": "j6daYdTAg2P1",
        "outputId": "e9c9c9a5-1d44-4953-ce44-db3cf3ea65e1"
      },
      "execution_count": 110,
      "outputs": [
        {
          "output_type": "display_data",
          "data": {
            "image/png": "[encoded data removed]",
            "text/plain": [
              "<Figure size 1152x576 with 1 Axes>"
            ]
          },
          "metadata": {}
        }
      ]
    },
    {
      "cell_type": "markdown",
      "source": [
        "show te valid and predicted prices"
      ],
      "metadata": {
        "id": "_aihfkG1k30r"
      }
    },
    {
      "cell_type": "code",
      "source": [
        "valid"
      ],
      "metadata": {
        "colab": {
          "base_uri": "https://localhost:8080/",
          "height": 424
        },
        "id": "nynyQIAZkwwr",
        "outputId": "c236a8a3-fc28-40b2-b5cb-82a03e92c219"
      },
      "execution_count": 111,
      "outputs": [
        {
          "output_type": "execute_result",
          "data": {
            "text/html": [
              "\n",
              "  <div id=\"df-1be0b476-82c6-4ce8-93dc-7d4303c3a9cc\">\n",
              "    <div class=\"colab-df-container\">\n",
              "      <div>\n",
              "<style scoped>\n",
              "    .dataframe tbody tr th:only-of-type {\n",
              "        vertical-align: middle;\n",
              "    }\n",
              "\n",
              "    .dataframe tbody tr th {\n",
              "        vertical-align: top;\n",
              "    }\n",
              "\n",
              "    .dataframe thead th {\n",
              "        text-align: right;\n",
              "    }\n",
              "</style>\n",
              "<table border=\"1\" class=\"dataframe\">\n",
              "  <thead>\n",
              "    <tr style=\"text-align: right;\">\n",
              "      <th></th>\n",
              "      <th>Date</th>\n",
              "      <th>Open</th>\n",
              "      <th>High</th>\n",
              "      <th>Low</th>\n",
              "      <th>Close</th>\n",
              "      <th>Volume</th>\n",
              "      <th>predictions</th>\n",
              "    </tr>\n",
              "  </thead>\n",
              "  <tbody>\n",
              "    <tr>\n",
              "      <th>2014</th>\n",
              "      <td>12/10/2019</td>\n",
              "      <td>67.1500</td>\n",
              "      <td>67.5175</td>\n",
              "      <td>66.4650</td>\n",
              "      <td>67.1200</td>\n",
              "      <td>90529532</td>\n",
              "      <td>66.011230</td>\n",
              "    </tr>\n",
              "    <tr>\n",
              "      <th>2015</th>\n",
              "      <td>12/11/2019</td>\n",
              "      <td>67.2025</td>\n",
              "      <td>67.7750</td>\n",
              "      <td>67.1250</td>\n",
              "      <td>67.6925</td>\n",
              "      <td>78893564</td>\n",
              "      <td>66.424187</td>\n",
              "    </tr>\n",
              "    <tr>\n",
              "      <th>2016</th>\n",
              "      <td>12/12/2019</td>\n",
              "      <td>66.9450</td>\n",
              "      <td>68.1400</td>\n",
              "      <td>66.8303</td>\n",
              "      <td>67.8650</td>\n",
              "      <td>137748168</td>\n",
              "      <td>66.979813</td>\n",
              "    </tr>\n",
              "    <tr>\n",
              "      <th>2017</th>\n",
              "      <td>12/13/2019</td>\n",
              "      <td>67.8650</td>\n",
              "      <td>68.8250</td>\n",
              "      <td>67.7325</td>\n",
              "      <td>68.7875</td>\n",
              "      <td>133731224</td>\n",
              "      <td>67.149277</td>\n",
              "    </tr>\n",
              "    <tr>\n",
              "      <th>2018</th>\n",
              "      <td>12/16/2019</td>\n",
              "      <td>69.2500</td>\n",
              "      <td>70.1975</td>\n",
              "      <td>69.2450</td>\n",
              "      <td>69.9650</td>\n",
              "      <td>128324420</td>\n",
              "      <td>68.073410</td>\n",
              "    </tr>\n",
              "    <tr>\n",
              "      <th>...</th>\n",
              "      <td>...</td>\n",
              "      <td>...</td>\n",
              "      <td>...</td>\n",
              "      <td>...</td>\n",
              "      <td>...</td>\n",
              "      <td>...</td>\n",
              "      <td>...</td>\n",
              "    </tr>\n",
              "    <tr>\n",
              "      <th>2512</th>\n",
              "      <td>12/1/2021</td>\n",
              "      <td>167.4800</td>\n",
              "      <td>170.3000</td>\n",
              "      <td>164.5300</td>\n",
              "      <td>164.7700</td>\n",
              "      <td>152423003</td>\n",
              "      <td>156.363449</td>\n",
              "    </tr>\n",
              "    <tr>\n",
              "      <th>2513</th>\n",
              "      <td>12/2/2021</td>\n",
              "      <td>158.7350</td>\n",
              "      <td>164.2000</td>\n",
              "      <td>157.8000</td>\n",
              "      <td>163.7600</td>\n",
              "      <td>136739174</td>\n",
              "      <td>155.488434</td>\n",
              "    </tr>\n",
              "    <tr>\n",
              "      <th>2514</th>\n",
              "      <td>12/3/2021</td>\n",
              "      <td>164.0200</td>\n",
              "      <td>164.9600</td>\n",
              "      <td>159.7200</td>\n",
              "      <td>161.8400</td>\n",
              "      <td>118023116</td>\n",
              "      <td>154.669937</td>\n",
              "    </tr>\n",
              "    <tr>\n",
              "      <th>2515</th>\n",
              "      <td>12/6/2021</td>\n",
              "      <td>164.2900</td>\n",
              "      <td>167.8799</td>\n",
              "      <td>164.2800</td>\n",
              "      <td>165.3200</td>\n",
              "      <td>107496982</td>\n",
              "      <td>153.001678</td>\n",
              "    </tr>\n",
              "    <tr>\n",
              "      <th>2516</th>\n",
              "      <td>12/7/2021</td>\n",
              "      <td>169.0800</td>\n",
              "      <td>171.5800</td>\n",
              "      <td>168.3400</td>\n",
              "      <td>171.1800</td>\n",
              "      <td>120405352</td>\n",
              "      <td>156.294205</td>\n",
              "    </tr>\n",
              "  </tbody>\n",
              "</table>\n",
              "<p>503 rows × 7 columns</p>\n",
              "</div>\n",
              "      <button class=\"colab-df-convert\" onclick=\"convertToInteractive('df-1be0b476-82c6-4ce8-93dc-7d4303c3a9cc')\"\n",
              "              title=\"Convert this dataframe to an interactive table.\"\n",
              "              style=\"display:none;\">\n",
              "        \n",
              "  <svg xmlns=\"http://www.w3.org/2000/svg\" height=\"24px\"viewBox=\"0 0 24 24\"\n",
              "       width=\"24px\">\n",
              "    <path d=\"M0 0h24v24H0V0z\" fill=\"none\"/>\n",
              "    <path d=\"M18.56 5.44l.94 2.06.94-2.06 2.06-.94-2.06-.94-.94-2.06-.94 2.06-2.06.94zm-11 1L8.5 8.5l.94-2.06 2.06-.94-2.06-.94L8.5 2.5l-.94 2.06-2.06.94zm10 10l.94 2.06.94-2.06 2.06-.94-2.06-.94-.94-2.06-.94 2.06-2.06.94z\"/><path d=\"M17.41 7.96l-1.37-1.37c-.4-.4-.92-.59-1.43-.59-.52 0-1.04.2-1.43.59L10.3 9.45l-7.72 7.72c-.78.78-.78 2.05 0 2.83L4 21.41c.39.39.9.59 1.41.59.51 0 1.02-.2 1.41-.59l7.78-7.78 2.81-2.81c.8-.78.8-2.07 0-2.86zM5.41 20L4 18.59l7.72-7.72 1.47 1.35L5.41 20z\"/>\n",
              "  </svg>\n",
              "      </button>\n",
              "      \n",
              "  <style>\n",
              "    .colab-df-container {\n",
              "      display:flex;\n",
              "      flex-wrap:wrap;\n",
              "      gap: 12px;\n",
              "    }\n",
              "\n",
              "    .colab-df-convert {\n",
              "      background-color: #E8F0FE;\n",
              "      border: none;\n",
              "      border-radius: 50%;\n",
              "      cursor: pointer;\n",
              "      display: none;\n",
              "      fill: #1967D2;\n",
              "      height: 32px;\n",
              "      padding: 0 0 0 0;\n",
              "      width: 32px;\n",
              "    }\n",
              "\n",
              "    .colab-df-convert:hover {\n",
              "      background-color: #E2EBFA;\n",
              "      box-shadow: 0px 1px 2px rgba(60, 64, 67, 0.3), 0px 1px 3px 1px rgba(60, 64, 67, 0.15);\n",
              "      fill: #174EA6;\n",
              "    }\n",
              "\n",
              "    [theme=dark] .colab-df-convert {\n",
              "      background-color: #3B4455;\n",
              "      fill: #D2E3FC;\n",
              "    }\n",
              "\n",
              "    [theme=dark] .colab-df-convert:hover {\n",
              "      background-color: #434B5C;\n",
              "      box-shadow: 0px 1px 3px 1px rgba(0, 0, 0, 0.15);\n",
              "      filter: drop-shadow(0px 1px 2px rgba(0, 0, 0, 0.3));\n",
              "      fill: #FFFFFF;\n",
              "    }\n",
              "  </style>\n",
              "\n",
              "      <script>\n",
              "        const buttonEl =\n",
              "          document.querySelector('#df-1be0b476-82c6-4ce8-93dc-7d4303c3a9cc button.colab-df-convert');\n",
              "        buttonEl.style.display =\n",
              "          google.colab.kernel.accessAllowed ? 'block' : 'none';\n",
              "\n",
              "        async function convertToInteractive(key) {\n",
              "          const element = document.querySelector('#df-1be0b476-82c6-4ce8-93dc-7d4303c3a9cc');\n",
              "          const dataTable =\n",
              "            await google.colab.kernel.invokeFunction('convertToInteractive',\n",
              "                                                     [key], {});\n",
              "          if (!dataTable) return;\n",
              "\n",
              "          const docLinkHtml = 'Like what you see? Visit the ' +\n",
              "            '<a target=\"_blank\" href=https://colab.research.google.com/notebooks/data_table.ipynb>data table notebook</a>'\n",
              "            + ' to learn more about interactive tables.';\n",
              "          element.innerHTML = '';\n",
              "          dataTable['output_type'] = 'display_data';\n",
              "          await google.colab.output.renderOutput(dataTable, element);\n",
              "          const docLink = document.createElement('div');\n",
              "          docLink.innerHTML = docLinkHtml;\n",
              "          element.appendChild(docLink);\n",
              "        }\n",
              "      </script>\n",
              "    </div>\n",
              "  </div>\n",
              "  "
            ],
            "text/plain": [
              "            Date      Open      High  ...     Close     Volume  predictions\n",
              "2014  12/10/2019   67.1500   67.5175  ...   67.1200   90529532    66.011230\n",
              "2015  12/11/2019   67.2025   67.7750  ...   67.6925   78893564    66.424187\n",
              "2016  12/12/2019   66.9450   68.1400  ...   67.8650  137748168    66.979813\n",
              "2017  12/13/2019   67.8650   68.8250  ...   68.7875  133731224    67.149277\n",
              "2018  12/16/2019   69.2500   70.1975  ...   69.9650  128324420    68.073410\n",
              "...          ...       ...       ...  ...       ...        ...          ...\n",
              "2512   12/1/2021  167.4800  170.3000  ...  164.7700  152423003   156.363449\n",
              "2513   12/2/2021  158.7350  164.2000  ...  163.7600  136739174   155.488434\n",
              "2514   12/3/2021  164.0200  164.9600  ...  161.8400  118023116   154.669937\n",
              "2515   12/6/2021  164.2900  167.8799  ...  165.3200  107496982   153.001678\n",
              "2516   12/7/2021  169.0800  171.5800  ...  171.1800  120405352   156.294205\n",
              "\n",
              "[503 rows x 7 columns]"
            ]
          },
          "metadata": {},
          "execution_count": 111
        }
      ]
    }
  ]
}